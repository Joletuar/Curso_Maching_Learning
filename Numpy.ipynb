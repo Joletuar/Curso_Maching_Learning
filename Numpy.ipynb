{
 "cells": [
  {
   "cell_type": "code",
   "execution_count": 283,
   "metadata": {
    "collapsed": true
   },
   "outputs": [],
   "source": [
    "import numpy as np"
   ]
  },
  {
   "cell_type": "code",
   "execution_count": 284,
   "metadata": {
    "collapsed": false,
    "pycharm": {
     "name": "#%%\n"
    }
   },
   "outputs": [],
   "source": [
    "np.random.seed(0) # Siempre obtiene los mismos numeros aleatorios\n",
    "\n",
    "x1 = np.random.randint(10,size=10) #Array de numeros random de longitud 10 entre 0 y 10\n",
    "\n",
    "x2 = np.random.randint(10,size=(3,3)) #Matriz de 2D 3x3 de numeros random entre 0 y 10\n",
    "\n",
    "x3 = np.random.randint(10,size=(3,4,5)) #Matriz de 3D 3x4x5 de numeros random entre 0 y 10"
   ]
  },
  {
   "cell_type": "code",
   "execution_count": 285,
   "metadata": {
    "collapsed": false,
    "pycharm": {
     "name": "#%%\n"
    }
   },
   "outputs": [
    {
     "name": "stdout",
     "output_type": "stream",
     "text": [
      "[5 0 3 3 7 9 3 5 2 4]\n",
      "\n",
      "[[7 6 8]\n",
      " [8 1 6]\n",
      " [7 7 8]]\n",
      "\n",
      "[[[1 5 9 8 9]\n",
      "  [4 3 0 3 5]\n",
      "  [0 2 3 8 1]\n",
      "  [3 3 3 7 0]]\n",
      "\n",
      " [[1 9 9 0 4]\n",
      "  [7 3 2 7 2]\n",
      "  [0 0 4 5 5]\n",
      "  [6 8 4 1 4]]\n",
      "\n",
      " [[9 8 1 1 7]\n",
      "  [9 9 3 6 7]\n",
      "  [2 0 3 5 9]\n",
      "  [4 4 6 4 4]]]\n"
     ]
    }
   ],
   "source": [
    "print(x1)\n",
    "print(\"\")\n",
    "print(x2)\n",
    "print(\"\")\n",
    "print(x3)"
   ]
  },
  {
   "cell_type": "code",
   "execution_count": 286,
   "metadata": {
    "collapsed": false,
    "pycharm": {
     "name": "#%%\n"
    }
   },
   "outputs": [
    {
     "data": {
      "text/plain": [
       "2"
      ]
     },
     "execution_count": 286,
     "metadata": {},
     "output_type": "execute_result"
    }
   ],
   "source": [
    "numeros = np.array([1,2,3,4,5])\n",
    "\n",
    "# Indexación\n",
    "\n",
    "numeros[1]"
   ]
  },
  {
   "cell_type": "code",
   "execution_count": 287,
   "metadata": {
    "collapsed": false,
    "pycharm": {
     "name": "#%%\n"
    }
   },
   "outputs": [
    {
     "data": {
      "text/plain": [
       "array([0, 1, 2, 3, 4, 5, 6, 7, 8, 9])"
      ]
     },
     "execution_count": 287,
     "metadata": {},
     "output_type": "execute_result"
    }
   ],
   "source": [
    "# Array Slicing\n",
    "# x[start:stop:step]\n",
    "\n",
    "x = np.arange(10)\n",
    "x"
   ]
  },
  {
   "cell_type": "code",
   "execution_count": 288,
   "metadata": {
    "collapsed": false,
    "pycharm": {
     "name": "#%%\n"
    }
   },
   "outputs": [
    {
     "data": {
      "text/plain": [
       "array([0, 1, 2, 3, 4])"
      ]
     },
     "execution_count": 288,
     "metadata": {},
     "output_type": "execute_result"
    }
   ],
   "source": [
    "# Obtiene los elementos desde la posicion 0 hasta la 5\n",
    "\n",
    "x[0:5]"
   ]
  },
  {
   "cell_type": "code",
   "execution_count": 289,
   "metadata": {
    "collapsed": false,
    "pycharm": {
     "name": "#%%\n"
    }
   },
   "outputs": [
    {
     "data": {
      "text/plain": [
       "array([0, 1, 2, 3, 4])"
      ]
     },
     "execution_count": 289,
     "metadata": {},
     "output_type": "execute_result"
    }
   ],
   "source": [
    "# Obtiene los primeros 5 elementos\n",
    "\n",
    "x[:5]"
   ]
  },
  {
   "cell_type": "code",
   "execution_count": 290,
   "metadata": {
    "collapsed": false,
    "pycharm": {
     "name": "#%%\n"
    }
   },
   "outputs": [
    {
     "data": {
      "text/plain": [
       "array([5, 6, 7, 8, 9])"
      ]
     },
     "execution_count": 290,
     "metadata": {},
     "output_type": "execute_result"
    }
   ],
   "source": [
    "#Obtiene los elementos desde la posición 5\n",
    "\n",
    "x[5:]"
   ]
  },
  {
   "cell_type": "code",
   "execution_count": 291,
   "metadata": {
    "collapsed": false,
    "pycharm": {
     "name": "#%%\n"
    }
   },
   "outputs": [
    {
     "data": {
      "text/plain": [
       "array([2, 3, 4, 5, 6])"
      ]
     },
     "execution_count": 291,
     "metadata": {},
     "output_type": "execute_result"
    }
   ],
   "source": [
    "# Obtiene los elementos de la posicion #2 a la #7\n",
    "\n",
    "x[2:7]"
   ]
  },
  {
   "cell_type": "code",
   "execution_count": 292,
   "metadata": {
    "collapsed": false,
    "pycharm": {
     "name": "#%%\n"
    }
   },
   "outputs": [
    {
     "data": {
      "text/plain": [
       "array([2, 4, 6])"
      ]
     },
     "execution_count": 292,
     "metadata": {},
     "output_type": "execute_result"
    }
   ],
   "source": [
    "#Obtiene los elementos de la posición 2 a la 7, de 2 en 2\n",
    "\n",
    "x[2:7:2]"
   ]
  },
  {
   "cell_type": "code",
   "execution_count": 293,
   "metadata": {
    "collapsed": false,
    "pycharm": {
     "name": "#%%\n"
    }
   },
   "outputs": [
    {
     "data": {
      "text/plain": [
       "array([9, 8, 7, 6, 5, 4, 3, 2, 1, 0])"
      ]
     },
     "execution_count": 293,
     "metadata": {},
     "output_type": "execute_result"
    }
   ],
   "source": [
    "# Revertir el arreglo\n",
    "\n",
    "x[::-1]"
   ]
  },
  {
   "cell_type": "code",
   "execution_count": 294,
   "metadata": {
    "collapsed": false,
    "pycharm": {
     "name": "#%%\n"
    }
   },
   "outputs": [
    {
     "data": {
      "text/plain": [
       "array([6, 4, 2])"
      ]
     },
     "execution_count": 294,
     "metadata": {},
     "output_type": "execute_result"
    }
   ],
   "source": [
    "pares = x[2:7:2][::-1]\n",
    "pares"
   ]
  },
  {
   "cell_type": "code",
   "execution_count": 295,
   "metadata": {
    "collapsed": false,
    "pycharm": {
     "name": "#%%\n"
    }
   },
   "outputs": [
    {
     "data": {
      "text/plain": [
       "array([7, 6, 5, 4, 3])"
      ]
     },
     "execution_count": 295,
     "metadata": {},
     "output_type": "execute_result"
    }
   ],
   "source": [
    "#Slicing\n",
    "\n",
    "x[7:2:-1]"
   ]
  },
  {
   "cell_type": "code",
   "execution_count": 296,
   "metadata": {
    "collapsed": false,
    "pycharm": {
     "name": "#%%\n"
    }
   },
   "outputs": [
    {
     "data": {
      "text/plain": [
       "array([[ 0,  1,  2,  3,  4],\n",
       "       [ 5,  6,  7,  8,  9],\n",
       "       [10, 11, 12, 13, 14],\n",
       "       [15, 16, 17, 18, 19],\n",
       "       [20, 21, 22, 23, 24]])"
      ]
     },
     "execution_count": 296,
     "metadata": {},
     "output_type": "execute_result"
    }
   ],
   "source": [
    "data = np.array([np.arange(i*5,i*5+5) for i in range(5)])\n",
    "data"
   ]
  },
  {
   "cell_type": "markdown",
   "metadata": {
    "collapsed": false,
    "pycharm": {
     "name": "#%% md\n"
    }
   },
   "source": [
    "# Slicing en arreglos multidimensionales"
   ]
  },
  {
   "cell_type": "code",
   "execution_count": 297,
   "metadata": {
    "collapsed": false,
    "pycharm": {
     "name": "#%%\n"
    }
   },
   "outputs": [
    {
     "data": {
      "text/plain": [
       "11"
      ]
     },
     "execution_count": 297,
     "metadata": {},
     "output_type": "execute_result"
    }
   ],
   "source": [
    "# x[row][column]\n",
    "\n",
    "data[2][1]"
   ]
  },
  {
   "cell_type": "code",
   "execution_count": 298,
   "metadata": {
    "collapsed": false,
    "pycharm": {
     "name": "#%%\n"
    }
   },
   "outputs": [
    {
     "data": {
      "text/plain": [
       "11"
      ]
     },
     "execution_count": 298,
     "metadata": {},
     "output_type": "execute_result"
    }
   ],
   "source": [
    "data[2,1]"
   ]
  },
  {
   "cell_type": "code",
   "execution_count": 299,
   "metadata": {
    "collapsed": false,
    "pycharm": {
     "name": "#%%\n"
    }
   },
   "outputs": [
    {
     "data": {
      "text/plain": [
       "array([[0, 1, 2],\n",
       "       [5, 6, 7]])"
      ]
     },
     "execution_count": 299,
     "metadata": {},
     "output_type": "execute_result"
    }
   ],
   "source": [
    "#Obtener las primeras dos filas y 3 columnas\n",
    "\n",
    "data[ :2 , :3 ]"
   ]
  },
  {
   "cell_type": "code",
   "execution_count": 300,
   "metadata": {
    "collapsed": false,
    "pycharm": {
     "name": "#%%\n"
    }
   },
   "outputs": [
    {
     "data": {
      "text/plain": [
       "array([[5, 0, 3, 3, 7, 9, 3, 5, 2, 4],\n",
       "       [7, 6, 8, 8, 1, 6, 7, 7, 8, 1],\n",
       "       [5, 9, 8, 9, 4, 3, 0, 3, 5, 0],\n",
       "       [2, 3, 8, 1, 3, 3, 3, 7, 0, 1],\n",
       "       [9, 9, 0, 4, 7, 3, 2, 7, 2, 0],\n",
       "       [0, 4, 5, 5, 6, 8, 4, 1, 4, 9],\n",
       "       [8, 1, 1, 7, 9, 9, 3, 6, 7, 2],\n",
       "       [0, 3, 5, 9, 4, 4, 6, 4, 4, 3],\n",
       "       [4, 4, 8, 4, 3, 7, 5, 5, 0, 1],\n",
       "       [5, 9, 3, 0, 5, 0, 1, 2, 4, 2]])"
      ]
     },
     "execution_count": 300,
     "metadata": {},
     "output_type": "execute_result"
    }
   ],
   "source": [
    "np.random.seed(0)\n",
    "random_data= np.random.randint(10,size=(10,10))\n",
    "\n",
    "random_data"
   ]
  },
  {
   "cell_type": "code",
   "execution_count": 301,
   "metadata": {
    "collapsed": false,
    "pycharm": {
     "name": "#%%\n"
    }
   },
   "outputs": [
    {
     "data": {
      "text/plain": [
       "array([[0, 4, 7, 3, 2, 7],\n",
       "       [5, 5, 6, 8, 4, 1],\n",
       "       [1, 7, 9, 9, 3, 6]])"
      ]
     },
     "execution_count": 301,
     "metadata": {},
     "output_type": "execute_result"
    }
   ],
   "source": [
    "# Obtener los elementos de las filas 4-7 y columnas 2-8\n",
    "\n",
    "random_data[4:7, 2:8]"
   ]
  },
  {
   "cell_type": "code",
   "execution_count": 302,
   "metadata": {},
   "outputs": [
    {
     "data": {
      "text/plain": [
       "array([[5, 0, 3],\n",
       "       [7, 6, 8],\n",
       "       [5, 9, 8],\n",
       "       [2, 3, 8],\n",
       "       [9, 9, 0]])"
      ]
     },
     "execution_count": 302,
     "metadata": {},
     "output_type": "execute_result"
    }
   ],
   "source": [
    "# Obtener los elementos de las filas 0-5 y columnas 0-3\n",
    "\n",
    "random_data[:5, :3]"
   ]
  },
  {
   "cell_type": "code",
   "execution_count": 303,
   "metadata": {},
   "outputs": [
    {
     "data": {
      "text/plain": [
       "array([[4, 6, 4, 4, 3],\n",
       "       [7, 5, 5, 0, 1],\n",
       "       [0, 1, 2, 4, 2]])"
      ]
     },
     "execution_count": 303,
     "metadata": {},
     "output_type": "execute_result"
    }
   ],
   "source": [
    "# Obtener los elementos de as ultimas 3 filas y ultimas 5 columnas\n",
    "\n",
    "random_data[7:, 5:]"
   ]
  },
  {
   "cell_type": "code",
   "execution_count": 304,
   "metadata": {
    "collapsed": false,
    "pycharm": {
     "name": "#%%\n"
    }
   },
   "outputs": [
    {
     "data": {
      "text/plain": [
       "array([[50, 50, 50, 50, 50],\n",
       "       [ 7,  5,  5,  0,  1],\n",
       "       [ 0,  1,  2,  4,  2]])"
      ]
     },
     "execution_count": 304,
     "metadata": {},
     "output_type": "execute_result"
    }
   ],
   "source": [
    "# Copiar los datos de manera incorrecta, aqui los cambios realizados tambien se reflejan en el array original\n",
    "\n",
    "no_copy = random_data[-3:,-5:]\n",
    "no_copy[0] = 50\n",
    "no_copy"
   ]
  },
  {
   "cell_type": "code",
   "execution_count": 305,
   "metadata": {
    "collapsed": false,
    "pycharm": {
     "name": "#%%\n"
    }
   },
   "outputs": [],
   "source": [
    "# Copiar datos de manera correcta\n",
    "\n",
    "copiaData = random_data[-3:,-5:].copy()\n",
    "copiaData[1] = 100"
   ]
  },
  {
   "cell_type": "code",
   "execution_count": 306,
   "metadata": {
    "collapsed": false,
    "pycharm": {
     "name": "#%%\n"
    }
   },
   "outputs": [
    {
     "data": {
      "text/plain": [
       "array([[ 50,  50,  50,  50,  50],\n",
       "       [100, 100, 100, 100, 100],\n",
       "       [  0,   1,   2,   4,   2]])"
      ]
     },
     "execution_count": 306,
     "metadata": {},
     "output_type": "execute_result"
    }
   ],
   "source": [
    "copiaData"
   ]
  },
  {
   "cell_type": "code",
   "execution_count": 307,
   "metadata": {
    "collapsed": false,
    "pycharm": {
     "name": "#%%\n"
    }
   },
   "outputs": [
    {
     "data": {
      "text/plain": [
       "array([[ 5,  0,  3,  3,  7,  9,  3,  5,  2,  4],\n",
       "       [ 7,  6,  8,  8,  1,  6,  7,  7,  8,  1],\n",
       "       [ 5,  9,  8,  9,  4,  3,  0,  3,  5,  0],\n",
       "       [ 2,  3,  8,  1,  3,  3,  3,  7,  0,  1],\n",
       "       [ 9,  9,  0,  4,  7,  3,  2,  7,  2,  0],\n",
       "       [ 0,  4,  5,  5,  6,  8,  4,  1,  4,  9],\n",
       "       [ 8,  1,  1,  7,  9,  9,  3,  6,  7,  2],\n",
       "       [ 0,  3,  5,  9,  4, 50, 50, 50, 50, 50],\n",
       "       [ 4,  4,  8,  4,  3,  7,  5,  5,  0,  1],\n",
       "       [ 5,  9,  3,  0,  5,  0,  1,  2,  4,  2]])"
      ]
     },
     "execution_count": 307,
     "metadata": {},
     "output_type": "execute_result"
    }
   ],
   "source": [
    "random_data"
   ]
  },
  {
   "cell_type": "code",
   "execution_count": 308,
   "metadata": {
    "collapsed": false,
    "pycharm": {
     "name": "#%%\n"
    }
   },
   "outputs": [
    {
     "data": {
      "text/plain": [
       "array([1, 2, 3, 3, 2, 1])"
      ]
     },
     "execution_count": 308,
     "metadata": {},
     "output_type": "execute_result"
    }
   ],
   "source": [
    "#Unir/concatenar 2 arrays\n",
    "\n",
    "x = np.array([1,2,3])\n",
    "y = np.array([3,2,1])\n",
    "\n",
    "np.concatenate([x,y])"
   ]
  },
  {
   "cell_type": "code",
   "execution_count": 309,
   "metadata": {
    "collapsed": false,
    "pycharm": {
     "name": "#%%\n"
    }
   },
   "outputs": [
    {
     "data": {
      "text/plain": [
       "array([[1, 2, 3],\n",
       "       [4, 5, 6],\n",
       "       [1, 2, 3],\n",
       "       [4, 5, 6]])"
      ]
     },
     "execution_count": 309,
     "metadata": {},
     "output_type": "execute_result"
    }
   ],
   "source": [
    "# Uniendo matrices, las matrices se unen de manera vertical\n",
    "\n",
    "m1 = np.array([[1,2,3],[4,5,6]])\n",
    "m2 = np.array([[1,2,3],[4,5,6]])\n",
    "\n",
    "m3 = np.concatenate([m1,m2],axis=0)\n",
    "m3"
   ]
  },
  {
   "cell_type": "code",
   "execution_count": 310,
   "metadata": {},
   "outputs": [
    {
     "data": {
      "text/plain": [
       "array([[1, 2, 3, 1, 2, 3],\n",
       "       [4, 5, 6, 4, 5, 6]])"
      ]
     },
     "execution_count": 310,
     "metadata": {},
     "output_type": "execute_result"
    }
   ],
   "source": [
    "# Uniendo matrices, las matrices se unen de manera horizontal\n",
    "\n",
    "m4 = np.concatenate([m1, m2], axis=1)\n",
    "m4"
   ]
  },
  {
   "cell_type": "code",
   "execution_count": 311,
   "metadata": {},
   "outputs": [
    {
     "data": {
      "text/plain": [
       "array([[1, 2, 3],\n",
       "       [4, 5, 6],\n",
       "       [1, 2, 3],\n",
       "       [4, 5, 6]])"
      ]
     },
     "execution_count": 311,
     "metadata": {},
     "output_type": "execute_result"
    }
   ],
   "source": [
    "# Otra forma de concaternar de manera vertical (Conctenar por filas)\n",
    "\n",
    "np.r_[m1,m2]"
   ]
  },
  {
   "cell_type": "code",
   "execution_count": 312,
   "metadata": {
    "collapsed": false,
    "pycharm": {
     "name": "#%%\n"
    }
   },
   "outputs": [
    {
     "data": {
      "text/plain": [
       "array([[1, 2, 3, 1, 2, 3],\n",
       "       [4, 5, 6, 4, 5, 6]])"
      ]
     },
     "execution_count": 312,
     "metadata": {},
     "output_type": "execute_result"
    }
   ],
   "source": [
    "# Otra forma de concaternar de manera horizontal (Conctenar por columnas)\n",
    "\n",
    "np.c_[m1,m2]"
   ]
  },
  {
   "cell_type": "code",
   "execution_count": 313,
   "metadata": {
    "collapsed": false,
    "pycharm": {
     "name": "#%%\n"
    }
   },
   "outputs": [
    {
     "name": "stdout",
     "output_type": "stream",
     "text": [
      "[1 2 3]\n",
      "[10 11 12]\n",
      "[20 21 22]\n"
     ]
    }
   ],
   "source": [
    "# Hacer un split (división) de los datos y asignarlos a variables\n",
    "# np.split(array_original/lista, [end_first_split, end_second_split,...])\n",
    "\n",
    "x = np.array([1,2,3,10,11,12,20,21,22])\n",
    "\n",
    "x1,x2,x3 = np.split(x,[3,6])\n",
    "\n",
    "print(x1)\n",
    "print(x2)\n",
    "print(x3)"
   ]
  },
  {
   "cell_type": "code",
   "execution_count": 314,
   "metadata": {
    "collapsed": false,
    "pycharm": {
     "name": "#%%\n"
    }
   },
   "outputs": [
    {
     "data": {
      "text/plain": [
       "array([[ 1,  2,  3],\n",
       "       [10, 11, 12],\n",
       "       [20, 21, 22]])"
      ]
     },
     "execution_count": 314,
     "metadata": {},
     "output_type": "execute_result"
    }
   ],
   "source": [
    "# Redimensionar una matriz o array a una nueva dimensión\n",
    "# np.reshape((new_row, new_column))\n",
    "\n",
    "matriz = np.array(x).reshape((3,3))\n",
    "matriz"
   ]
  },
  {
   "cell_type": "code",
   "execution_count": 315,
   "metadata": {},
   "outputs": [
    {
     "name": "stdout",
     "output_type": "stream",
     "text": [
      "[[ 1  2]\n",
      " [10 11]\n",
      " [20 21]]\n",
      "\n",
      "[[ 3]\n",
      " [12]\n",
      " [22]]\n"
     ]
    }
   ],
   "source": [
    "# Hacer un split (división) a una matriz de manera horizontal (columnas)\n",
    "# np.hsplit(originall_matrix, number_of_columns)\n",
    "\n",
    "upper,lower = np.hsplit(matriz,[2])\n",
    "\n",
    "print(upper, end = \"\\n\\n\")\n",
    "print(lower)"
   ]
  },
  {
   "cell_type": "code",
   "execution_count": 316,
   "metadata": {
    "collapsed": false,
    "pycharm": {
     "name": "#%%\n"
    }
   },
   "outputs": [
    {
     "name": "stdout",
     "output_type": "stream",
     "text": [
      "[[ 1  2  3]\n",
      " [10 11 12]]\n",
      "\n",
      "[[20 21 22]]\n"
     ]
    }
   ],
   "source": [
    "# Hacer un split (división) a una matriz de manera vertical (filas)\n",
    "# np.vsplit(originall_matrix, number_of_rows)\n",
    "\n",
    "upper,lower = np.vsplit(matriz,[2])\n",
    "\n",
    "print(upper, end = \"\\n\\n\")\n",
    "print(lower)"
   ]
  },
  {
   "cell_type": "markdown",
   "metadata": {},
   "source": [
    "#### Ufunctions/Universal functions/Funciones Universales"
   ]
  },
  {
   "cell_type": "code",
   "execution_count": 317,
   "metadata": {},
   "outputs": [
    {
     "data": {
      "text/plain": [
       "array([49, 94,  4, 99, 43, 78, 22, 74,  1, 11, 44, 59, 24, 60,  3, 99, 63,\n",
       "       36, 95, 68, 83, 47, 21, 82, 51, 28, 15, 42, 59, 66, 37, 11, 87, 44,\n",
       "       12,  3, 52, 81, 33, 55,  1, 39, 20, 47, 43, 57, 61, 78, 31, 25,  3,\n",
       "        4, 95, 99, 14, 41, 73, 20, 96, 73, 27, 67, 53, 68, 62, 15, 97,  5,\n",
       "       68, 12, 87, 78, 76, 57, 17, 25, 30, 22, 26, 81, 61, 62, 84, 34, 33,\n",
       "       71, 86, 32, 14, 72, 57, 25, 80, 42, 19, 41, 55, 80, 12, 39])"
      ]
     },
     "execution_count": 317,
     "metadata": {},
     "output_type": "execute_result"
    }
   ],
   "source": [
    "# Conjunto de datos\n",
    "\n",
    "valores = np.random.randint(1, 100, size = 100, dtype=int)\n",
    "valores"
   ]
  },
  {
   "cell_type": "code",
   "execution_count": 318,
   "metadata": {},
   "outputs": [
    {
     "data": {
      "text/plain": [
       "[44.1,\n",
       " 84.60000000000001,\n",
       " 3.6,\n",
       " 89.10000000000001,\n",
       " 38.7,\n",
       " 70.2,\n",
       " 19.8,\n",
       " 66.60000000000001,\n",
       " 0.9,\n",
       " 9.9,\n",
       " 39.6,\n",
       " 53.1,\n",
       " 21.6,\n",
       " 54.0,\n",
       " 2.7,\n",
       " 89.10000000000001,\n",
       " 56.7,\n",
       " 32.4,\n",
       " 85.5,\n",
       " 61.2,\n",
       " 74.7,\n",
       " 42.300000000000004,\n",
       " 18.900000000000002,\n",
       " 73.8,\n",
       " 45.9,\n",
       " 25.2,\n",
       " 13.5,\n",
       " 37.800000000000004,\n",
       " 53.1,\n",
       " 59.4,\n",
       " 33.300000000000004,\n",
       " 9.9,\n",
       " 78.3,\n",
       " 39.6,\n",
       " 10.8,\n",
       " 2.7,\n",
       " 46.800000000000004,\n",
       " 72.9,\n",
       " 29.7,\n",
       " 49.5,\n",
       " 0.9,\n",
       " 35.1,\n",
       " 18.0,\n",
       " 42.300000000000004,\n",
       " 38.7,\n",
       " 51.300000000000004,\n",
       " 54.9,\n",
       " 70.2,\n",
       " 27.900000000000002,\n",
       " 22.5,\n",
       " 2.7,\n",
       " 3.6,\n",
       " 85.5,\n",
       " 89.10000000000001,\n",
       " 12.6,\n",
       " 36.9,\n",
       " 65.7,\n",
       " 18.0,\n",
       " 86.4,\n",
       " 65.7,\n",
       " 24.3,\n",
       " 60.300000000000004,\n",
       " 47.7,\n",
       " 61.2,\n",
       " 55.800000000000004,\n",
       " 13.5,\n",
       " 87.3,\n",
       " 4.5,\n",
       " 61.2,\n",
       " 10.8,\n",
       " 78.3,\n",
       " 70.2,\n",
       " 68.4,\n",
       " 51.300000000000004,\n",
       " 15.3,\n",
       " 22.5,\n",
       " 27.0,\n",
       " 19.8,\n",
       " 23.400000000000002,\n",
       " 72.9,\n",
       " 54.9,\n",
       " 55.800000000000004,\n",
       " 75.60000000000001,\n",
       " 30.6,\n",
       " 29.7,\n",
       " 63.9,\n",
       " 77.4,\n",
       " 28.8,\n",
       " 12.6,\n",
       " 64.8,\n",
       " 51.300000000000004,\n",
       " 22.5,\n",
       " 72.0,\n",
       " 37.800000000000004,\n",
       " 17.1,\n",
       " 36.9,\n",
       " 49.5,\n",
       " 72.0,\n",
       " 10.8,\n",
       " 35.1]"
      ]
     },
     "execution_count": 318,
     "metadata": {},
     "output_type": "execute_result"
    }
   ],
   "source": [
    "import time\n",
    "\n",
    "# Método con Python\n",
    "\n",
    "def reduce_10_percent(data):\n",
    "    result = []\n",
    "    for i in data:\n",
    "        value = i * 0.9\n",
    "        result.append(value)\n",
    "    \n",
    "    return result\n",
    "\n",
    "reduce_10_percent(valores)"
   ]
  },
  {
   "cell_type": "code",
   "execution_count": 319,
   "metadata": {},
   "outputs": [
    {
     "name": "stdout",
     "output_type": "stream",
     "text": [
      "265 µs ± 1.93 µs per loop (mean ± std. dev. of 7 runs, 1,000 loops each)\n"
     ]
    }
   ],
   "source": [
    "%timeit (reduce_10_percent(valores))"
   ]
  },
  {
   "cell_type": "code",
   "execution_count": 320,
   "metadata": {},
   "outputs": [
    {
     "data": {
      "text/plain": [
       "array([44.1, 84.6,  3.6, 89.1, 38.7, 70.2, 19.8, 66.6,  0.9,  9.9, 39.6,\n",
       "       53.1, 21.6, 54. ,  2.7, 89.1, 56.7, 32.4, 85.5, 61.2, 74.7, 42.3,\n",
       "       18.9, 73.8, 45.9, 25.2, 13.5, 37.8, 53.1, 59.4, 33.3,  9.9, 78.3,\n",
       "       39.6, 10.8,  2.7, 46.8, 72.9, 29.7, 49.5,  0.9, 35.1, 18. , 42.3,\n",
       "       38.7, 51.3, 54.9, 70.2, 27.9, 22.5,  2.7,  3.6, 85.5, 89.1, 12.6,\n",
       "       36.9, 65.7, 18. , 86.4, 65.7, 24.3, 60.3, 47.7, 61.2, 55.8, 13.5,\n",
       "       87.3,  4.5, 61.2, 10.8, 78.3, 70.2, 68.4, 51.3, 15.3, 22.5, 27. ,\n",
       "       19.8, 23.4, 72.9, 54.9, 55.8, 75.6, 30.6, 29.7, 63.9, 77.4, 28.8,\n",
       "       12.6, 64.8, 51.3, 22.5, 72. , 37.8, 17.1, 36.9, 49.5, 72. , 10.8,\n",
       "       35.1])"
      ]
     },
     "execution_count": 320,
     "metadata": {},
     "output_type": "execute_result"
    }
   ],
   "source": [
    "# Método con funciones universales\n",
    "\n",
    "valores * 0.9"
   ]
  },
  {
   "cell_type": "code",
   "execution_count": 321,
   "metadata": {},
   "outputs": [
    {
     "name": "stdout",
     "output_type": "stream",
     "text": [
      "1.8 µs ± 10.4 ns per loop (mean ± std. dev. of 7 runs, 1,000,000 loops each)\n"
     ]
    }
   ],
   "source": [
    "%timeit (valores * 0.9)"
   ]
  },
  {
   "cell_type": "code",
   "execution_count": 322,
   "metadata": {},
   "outputs": [
    {
     "data": {
      "text/plain": [
       "array([0., 1., 2., 3.])"
      ]
     },
     "execution_count": 322,
     "metadata": {},
     "output_type": "execute_result"
    }
   ],
   "source": [
    "x = np.arange(4, dtype = float)\n",
    "x"
   ]
  },
  {
   "cell_type": "code",
   "execution_count": 323,
   "metadata": {},
   "outputs": [
    {
     "data": {
      "text/plain": [
       "array([2., 3., 4., 5.])"
      ]
     },
     "execution_count": 323,
     "metadata": {},
     "output_type": "execute_result"
    }
   ],
   "source": [
    "# Sumar un valor a cada elemento del array\n",
    "\n",
    "x + 2"
   ]
  },
  {
   "cell_type": "code",
   "execution_count": 324,
   "metadata": {},
   "outputs": [
    {
     "data": {
      "text/plain": [
       "array([-2., -1.,  0.,  1.])"
      ]
     },
     "execution_count": 324,
     "metadata": {},
     "output_type": "execute_result"
    }
   ],
   "source": [
    "# Restar un valor a cada elemento del array\n",
    "\n",
    "x - 2"
   ]
  },
  {
   "cell_type": "code",
   "execution_count": 325,
   "metadata": {},
   "outputs": [
    {
     "data": {
      "text/plain": [
       "array([0., 2., 4., 6.])"
      ]
     },
     "execution_count": 325,
     "metadata": {},
     "output_type": "execute_result"
    }
   ],
   "source": [
    "# Multiplicar un valor a cada elemento del array\n",
    "\n",
    "x * 2"
   ]
  },
  {
   "cell_type": "code",
   "execution_count": 326,
   "metadata": {},
   "outputs": [
    {
     "data": {
      "text/plain": [
       "array([0. , 0.5, 1. , 1.5])"
      ]
     },
     "execution_count": 326,
     "metadata": {},
     "output_type": "execute_result"
    }
   ],
   "source": [
    "# Dividir un valor a cada elemento del array\n",
    "\n",
    "x / 2"
   ]
  },
  {
   "cell_type": "code",
   "execution_count": 327,
   "metadata": {},
   "outputs": [
    {
     "data": {
      "text/plain": [
       "array([-0., -1., -2., -3.])"
      ]
     },
     "execution_count": 327,
     "metadata": {},
     "output_type": "execute_result"
    }
   ],
   "source": [
    "# Cambiar de signo a cada elemento del array\n",
    "\n",
    "-x"
   ]
  },
  {
   "cell_type": "code",
   "execution_count": 330,
   "metadata": {},
   "outputs": [
    {
     "data": {
      "text/plain": [
       "array([54.6, 55.6, 58.6, 63.6])"
      ]
     },
     "execution_count": 330,
     "metadata": {},
     "output_type": "execute_result"
    }
   ],
   "source": [
    "fx = (x**2) + 54.6\n",
    "fx"
   ]
  },
  {
   "cell_type": "code",
   "execution_count": null,
   "metadata": {},
   "outputs": [],
   "source": []
  }
 ],
 "metadata": {
  "kernelspec": {
   "display_name": "Python 3",
   "language": "python",
   "name": "python3"
  },
  "language_info": {
   "codemirror_mode": {
    "name": "ipython",
    "version": 3
   },
   "file_extension": ".py",
   "mimetype": "text/x-python",
   "name": "python",
   "nbconvert_exporter": "python",
   "pygments_lexer": "ipython3",
   "version": "3.9.0"
  }
 },
 "nbformat": 4,
 "nbformat_minor": 0
}
